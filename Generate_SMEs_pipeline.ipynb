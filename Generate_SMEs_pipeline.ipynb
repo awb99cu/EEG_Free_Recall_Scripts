{
 "cells": [
  {
   "cell_type": "markdown",
   "id": "fc699472",
   "metadata": {},
   "source": [
    "# Computing Spectral Density Subsequent Memory Effects from Scalp EEG\n",
    "\n",
    "Here I will demonstrate the computations involved in generating spectral density subsequent memory effects from preprocessed EEG data. "
   ]
  },
  {
   "cell_type": "markdown",
   "id": "bd20288b",
   "metadata": {},
   "source": [
    "## 1. Get epoched data for encoding trials and an index of remembered & forgotten trials.\n",
    "We will start by estimating power spectral density across 18 logarithmically spaced frequencies for each participant (replicating the method from Weideman & Kahana, 2021). We will also get separate dataframes for spectral density in remembered vs. forgotten trials. We will then Z-transform the spectral density estimates. \n",
    "\n",
    "Typically this process is done serially for all participants using a wrapper function, but to fully illustrate what the code is doing, I will show the computations being done with one participant only."
   ]
  },
  {
   "cell_type": "code",
   "execution_count": 7,
   "id": "f1f2f6e7",
   "metadata": {},
   "outputs": [],
   "source": [
    "import All_epochs\n",
    "import get_trial_power\n",
    "import Ztrans_power\n",
    "import mne\n",
    "import pandas\n",
    "import numpy as np\n",
    "from mne.time_frequency import tfr_morlet, psd_multitaper"
   ]
  },
  {
   "cell_type": "markdown",
   "id": "2cd4f7c0",
   "metadata": {},
   "source": [
    "The first operation is to obtain separate EEG dataframes for remembered & forgotten trials using the \"All_epochs\" helper function"
   ]
  },
  {
   "cell_type": "code",
   "execution_count": 3,
   "id": "9e3c8ffa",
   "metadata": {},
   "outputs": [
    {
     "name": "stdout",
     "output_type": "stream",
     "text": [
      "Opening raw data file /Volumes/AMPlab/FR_EEG/preprocessed_EEG/NoDetect_6.fif...\n"
     ]
    },
    {
     "name": "stderr",
     "output_type": "stream",
     "text": [
      "/var/folders/6p/3zdj_2v55md5xh86mmn6gt2h0000gn/T/ipykernel_50024/2555147686.py:5: RuntimeWarning: This filename (/Volumes/AMPlab/FR_EEG/preprocessed_EEG/NoDetect_6.fif) does not conform to MNE naming conventions. All raw files should end with raw.fif, raw_sss.fif, raw_tsss.fif, _meg.fif, _eeg.fif, _ieeg.fif, raw.fif.gz, raw_sss.fif.gz, raw_tsss.fif.gz, _meg.fif.gz, _eeg.fif.gz or _ieeg.fif.gz\n",
      "  raw = mne.io.read_raw_fif(filename, preload=True)\n"
     ]
    },
    {
     "name": "stdout",
     "output_type": "stream",
     "text": [
      "    Range : 0 ... 1709055 =      0.000 ...  3337.998 secs\n",
      "Ready.\n",
      "Reading 0 ... 1709055  =      0.000 ...  3337.998 secs...\n",
      "Trigger channel has a non-zero initial value of 65536 (consider using initial_event=True to detect this event)\n",
      "Removing orphaned offset at the beginning of the file.\n",
      "657 events found\n",
      "Event IDs: [48 49 51 53 54]\n",
      "Not setting metadata\n",
      "Not setting metadata\n",
      "432 matching events found\n",
      "Setting baseline interval to [-0.69921875, 0.0] sec\n",
      "Applying baseline correction (mode: mean)\n",
      "0 projection items activated\n",
      "Loading data for 432 events and 973 original time points ...\n",
      "0 bad epochs dropped\n"
     ]
    }
   ],
   "source": [
    "#Read in subject's preprocessed EEG data\n",
    "data_path = '/Volumes/AMPlab/FR_EEG/preprocessed_EEG/'\n",
    "excl = [\"EXG1\", \"EXG2\", \"EXG3\", \"EXG4\", \"EXG5\", \"EXG6\", \"EXG7\", \"EXG8\"]\n",
    "filename = data_path+'NoDetect_6.fif'\n",
    "raw = mne.io.read_raw_fif(filename, preload=True)\n",
    "\n",
    "#Obtain epoched data specifying only events that include word presentations.\n",
    "#Each event will consist of data from the 700ms prior to word onset and the 1200 ms post-onset.\n",
    "picks = mne.pick_types(raw.info, eeg=True, eog=False, stim=False, exclude=excl)\n",
    "events = mne.find_events(raw, min_duration = 2/512)\n",
    "epochs = mne.Epochs(raw, events, picks=picks, event_id= [48, 49], tmin=-0.7, tmax=1.2, preload=True)"
   ]
  },
  {
   "cell_type": "markdown",
   "id": "875a9fac",
   "metadata": {},
   "source": [
    "Now that we have the epochs data, we need to read in a list to tell us which trials were subsequently remembered and forgotten. We expect to see 432 events (24 x 18). For participants 1-3 there was a triggering issue that caused some events to be lost. Had to manually check which events were missing and modify behavioral data file to correct Remembered/Forgotten indexing."
   ]
  },
  {
   "cell_type": "code",
   "execution_count": 8,
   "id": "71553a23",
   "metadata": {},
   "outputs": [],
   "source": [
    "forgd = pandas.read_csv('/Users/Adam/Documents/Adam_Python/ABE_FR_EEG/Rem_Forg/Forg_6.txt', sep = \"\\t\")\n",
    "remmd = pandas.read_csv('/Users/Adam/Documents/Adam_Python/ABE_FR_EEG/Rem_Forg/Remmd_6.txt', sep = \"\\t\")\n",
    "Forggd = np.array(forgd.F)\n",
    "Remmd = np.array(remmd.R)\n",
    "Remembered = []\n",
    "for k in list(range(0, len(Remmd))):\n",
    "    Remembered.append(int(Remmd[k]) - 1)\n",
    "Forgotten = []\n",
    "for k in list(range(0, len(Forggd))):\n",
    "    Forgotten.append(int(Forggd[k]) - 1)"
   ]
  },
  {
   "cell_type": "code",
   "execution_count": 9,
   "id": "c4c08cdd",
   "metadata": {},
   "outputs": [
    {
     "name": "stdout",
     "output_type": "stream",
     "text": [
      "[0, 1, 3, 4, 7, 11, 13, 14, 17, 18, 20, 21, 24, 25, 29, 31, 32, 33, 34, 35, 40, 42, 45, 48, 49, 52, 53, 54, 55, 56, 58, 61, 62, 63, 66, 67, 72, 73, 74, 75, 76, 80, 81, 82, 86, 88, 89, 90, 91, 92, 95, 96, 97, 102, 108, 109, 110, 115, 116, 117, 118, 121, 122, 123, 124, 127, 135, 141, 142, 143, 144, 149, 154, 155, 157, 159, 160, 162, 170, 172, 176, 177, 178, 179, 183, 184, 185, 189, 190, 192, 195, 198, 199, 200, 213, 227, 234, 235, 237, 238, 255, 256, 257, 279, 283, 286, 287, 288, 289, 291, 292, 304, 315, 319, 321, 323, 349, 350, 360, 367, 368, 370, 374, 375, 383, 384, 385, 386, 394, 400, 401, 403, 409, 410, 415, 416, 417]\n",
      "[2, 5, 6, 8, 9, 10, 12, 15, 16, 19, 22, 23, 26, 27, 28, 30, 36, 37, 38, 39, 41, 43, 44, 46, 47, 50, 51, 57, 59, 60, 64, 65, 68, 69, 70, 71, 77, 78, 79, 83, 84, 85, 87, 93, 94, 98, 99, 100, 101, 103, 104, 105, 106, 107, 111, 112, 113, 114, 119, 120, 125, 126, 128, 129, 130, 131, 132, 133, 134, 136, 137, 138, 139, 140, 145, 146, 147, 148, 150, 151, 152, 153, 156, 158, 161, 163, 164, 165, 166, 167, 168, 169, 171, 173, 174, 175, 180, 181, 182, 186, 187, 188, 191, 193, 194, 196, 197, 201, 202, 203, 204, 205, 206, 207, 208, 209, 210, 211, 212, 214, 215, 216, 217, 218, 219, 220, 221, 222, 223, 224, 225, 226, 228, 229, 230, 231, 232, 233, 236, 239, 240, 241, 242, 243, 244, 245, 246, 247, 248, 249, 250, 251, 252, 253, 254, 258, 259, 260, 261, 262, 263, 264, 265, 266, 267, 268, 269, 270, 271, 272, 273, 274, 275, 276, 277, 278, 280, 281, 282, 284, 285, 290, 293, 294, 295, 296, 297, 298, 299, 300, 301, 302, 303, 305, 306, 307, 308, 309, 310, 311, 312, 313, 314, 316, 317, 318, 320, 322, 324, 325, 326, 327, 328, 329, 330, 331, 332, 333, 334, 335, 336, 337, 338, 339, 340, 341, 342, 343, 344, 345, 346, 347, 348, 351, 352, 353, 354, 355, 356, 357, 358, 359, 361, 362, 363, 364, 365, 366, 369, 371, 372, 373, 376, 377, 378, 379, 380, 381, 382, 387, 388, 389, 390, 391, 392, 393, 395, 396, 397, 398, 399, 402, 404, 405, 406, 407, 408, 411, 412, 413, 414, 418, 419, 420, 421, 422, 423, 424, 425, 426, 427, 428, 429, 430, 431]\n"
     ]
    }
   ],
   "source": [
    "print(Remembered)\n",
    "print(Forgotten)"
   ]
  },
  {
   "cell_type": "markdown",
   "id": "7fa912f3",
   "metadata": {},
   "source": [
    "## 2. Generate power spectral density estimates for all trials.\n",
    "\n",
    "We now have three critical elements- The epoched EEG data, and two lists indicating remembered & forgotten trials. Our next step is to estimate power spectral density for each electrode, for each time point in each trial, across 18 logarithmically spaced frequencies using a function called \"get_trial_power\"."
   ]
  },
  {
   "cell_type": "code",
   "execution_count": 10,
   "id": "276fbd19",
   "metadata": {},
   "outputs": [
    {
     "name": "stdout",
     "output_type": "stream",
     "text": [
      "Not setting metadata\n"
     ]
    },
    {
     "name": "stderr",
     "output_type": "stream",
     "text": [
      "/var/folders/6p/3zdj_2v55md5xh86mmn6gt2h0000gn/T/ipykernel_50024/1313971862.py:16: DeprecationWarning: events cannot be set directly. This warning will turn into an error after 0.24\n",
      "  Power.info['events'] = epochs.events\n"
     ]
    }
   ],
   "source": [
    "#Import additional packages\n",
    "import statistics\n",
    "from mne.time_frequency import tfr_morlet, psd_multitaper\n",
    "\n",
    "# Define frequencies for which to compute spectral densities.\n",
    "freqs = np.logspace(*np.log10([2, 100]), num=18)\n",
    "\n",
    "# Define Number of cycles to use in PSD computations. It should use half-second moving windows,\n",
    "#so it is set to half the number of the frequency being estimated\n",
    "n_cycles = freqs/2.\n",
    "\n",
    "#Computing PSD with a decimation rate of 32, resulting in a sampling freq. of 16Hz.\n",
    "chans = list(range(0,64))\n",
    "Power = tfr_morlet(epochs, freqs=freqs, n_cycles=n_cycles,\n",
    "              decim = 32, picks = chans, return_itc=False, average = False)\n",
    "Power.info['events'] = epochs.events"
   ]
  },
  {
   "cell_type": "markdown",
   "id": "e2949441",
   "metadata": {},
   "source": [
    "We now have power data for all events with time ranges of -0.7 to 1.2s. We want to crop off the first and last 200ms of this, as it is mostly noise."
   ]
  },
  {
   "cell_type": "code",
   "execution_count": 11,
   "id": "ea40c716",
   "metadata": {},
   "outputs": [
    {
     "data": {
      "text/plain": [
       "<EpochsTFR | time : [-0.511719, 0.988281], freq : [2.000000, 100.000000], epochs : 432, channels : 64, ~95.0 MB>"
      ]
     },
     "execution_count": 11,
     "metadata": {},
     "output_type": "execute_result"
    }
   ],
   "source": [
    "Power.crop(tmin = -.5, tmax = 1)"
   ]
  },
  {
   "cell_type": "markdown",
   "id": "c4e60360",
   "metadata": {},
   "source": [
    "## 3. Compute Z-transformed power estimates for remembered & forgotten trials\n",
    "\n",
    "Now we will perform a Z-transformation on the PSD estimates separately for remembered & forgotten trials. This uses a helper function called \"Ztrans_power\". This is done separately for each channel and frequency. An important choice was made here to reference power values within a trial to the mean and standard deviation **across all trials**. Another accepted way to do this would be to reference power to the mean **within that specific trial**. "
   ]
  },
  {
   "cell_type": "code",
   "execution_count": 12,
   "id": "df02e36e",
   "metadata": {},
   "outputs": [
    {
     "name": "stderr",
     "output_type": "stream",
     "text": [
      "/var/folders/6p/3zdj_2v55md5xh86mmn6gt2h0000gn/T/ipykernel_50024/3206444784.py:15: DeprecationWarning: events cannot be set directly. This warning will turn into an error after 0.24\n",
      "  Rem_pwr.info['events'] = Power.info['events'][Remembered]\n",
      "/var/folders/6p/3zdj_2v55md5xh86mmn6gt2h0000gn/T/ipykernel_50024/3206444784.py:18: DeprecationWarning: events cannot be set directly. This warning will turn into an error after 0.24\n",
      "  Forg_pwr.info['events'] = Power.info['events'][Forgotten]\n"
     ]
    }
   ],
   "source": [
    "#Z-transforming power estimates\n",
    "for i in list(range(0, len(Power.data[0]))): # for each channel\n",
    "    for k in list(range(0, len(Power.data[0][0]))): # for each frequency \n",
    "        power_raw = []\n",
    "        for j in list(range(0, len(Power.data))): #For each epoch\n",
    "            power_raw = power_raw + list(Power.data[j][i][k])\n",
    "        Power_mean = np.mean(power_raw)\n",
    "        power_std = np.std(power_raw)\n",
    "        for j in list(range(0, len(Power.data))): #For each epoch\n",
    "            Power.data[j][i][k] = (Power.data[j][i][k] - Power_mean)/power_std\n",
    "\n",
    "#Creating separate data frames for Remembered and Forgotten trials\n",
    "Rem_pwr = Power.copy()\n",
    "Rem_pwr.data = Power.data[Remembered][:][:]\n",
    "Rem_pwr.info['events'] = Power.info['events'][Remembered]\n",
    "Forg_pwr = Power.copy()\n",
    "Forg_pwr.data = Power.data[Forgotten][:][:]\n",
    "Forg_pwr.info['events'] = Power.info['events'][Forgotten]"
   ]
  },
  {
   "cell_type": "code",
   "execution_count": 13,
   "id": "5b4f18b7",
   "metadata": {},
   "outputs": [],
   "source": [
    "#Save the data frames\n",
    "Zpower.save('Spectral_Power/Power_16hz_6.fif', overwrite = True)\n",
    "Forg_pwr.save('Spectral_Power/PowerRem_16hz_NoDetect_6.fif', overwrite = True)\n",
    "Rem_pwr.save('Spectral_Power/PowerForg_16hz_NoDetect_6.fif', overwrite = True)"
   ]
  },
  {
   "cell_type": "markdown",
   "id": "520e1dc8",
   "metadata": {},
   "source": [
    "## 4. Compute Subsequent Memory Effects\n",
    "\n",
    "We now have separate power spectral density estimates for remembered and forgotten trials. Our next step is to group the frequencies into discrete bands, average them across trials for each electrode, and subtract the averages of forgotten trials from those of remembered trials.\n",
    "\n",
    "**Note:** I was previously showing power computations for only one participant, but now we will be including multiple participants. "
   ]
  },
  {
   "cell_type": "code",
   "execution_count": 16,
   "id": "9e2ccde7",
   "metadata": {},
   "outputs": [
    {
     "name": "stdout",
     "output_type": "stream",
     "text": [
      "Starting Subject 1 of 4\n",
      "Reading Spectral_Power/PowerRem_16hz_NoDetect_3.fif ...\n"
     ]
    },
    {
     "name": "stderr",
     "output_type": "stream",
     "text": [
      "/var/folders/6p/3zdj_2v55md5xh86mmn6gt2h0000gn/T/ipykernel_50024/282657811.py:22: RuntimeWarning: This filename (Spectral_Power/PowerRem_16hz_NoDetect_3.fif) does not conform to MNE naming conventions. All tfr files should end with -tfr.h5 or _tfr.h5\n",
      "  aa = read_tfrs('Spectral_Power/PowerRem_16hz_NoDetect_'+str(subjs[i])+'.fif')\n"
     ]
    },
    {
     "name": "stdout",
     "output_type": "stream",
     "text": [
      "Not setting metadata\n",
      "Reading Spectral_Power/PowerForg_16hz_NoDetect_3.fif ...\n"
     ]
    },
    {
     "name": "stderr",
     "output_type": "stream",
     "text": [
      "/var/folders/6p/3zdj_2v55md5xh86mmn6gt2h0000gn/T/ipykernel_50024/282657811.py:25: RuntimeWarning: This filename (Spectral_Power/PowerForg_16hz_NoDetect_3.fif) does not conform to MNE naming conventions. All tfr files should end with -tfr.h5 or _tfr.h5\n",
      "  bb= read_tfrs('Spectral_Power/PowerForg_16hz_NoDetect_'+str(subjs[i])+'.fif')\n"
     ]
    },
    {
     "name": "stdout",
     "output_type": "stream",
     "text": [
      "Not setting metadata\n",
      "Starting Subject 2 of 4\n",
      "Reading Spectral_Power/PowerRem_16hz_NoDetect_4.fif ...\n"
     ]
    },
    {
     "name": "stderr",
     "output_type": "stream",
     "text": [
      "/var/folders/6p/3zdj_2v55md5xh86mmn6gt2h0000gn/T/ipykernel_50024/282657811.py:22: RuntimeWarning: This filename (Spectral_Power/PowerRem_16hz_NoDetect_4.fif) does not conform to MNE naming conventions. All tfr files should end with -tfr.h5 or _tfr.h5\n",
      "  aa = read_tfrs('Spectral_Power/PowerRem_16hz_NoDetect_'+str(subjs[i])+'.fif')\n"
     ]
    },
    {
     "name": "stdout",
     "output_type": "stream",
     "text": [
      "Not setting metadata\n",
      "Reading Spectral_Power/PowerForg_16hz_NoDetect_4.fif ...\n"
     ]
    },
    {
     "name": "stderr",
     "output_type": "stream",
     "text": [
      "/var/folders/6p/3zdj_2v55md5xh86mmn6gt2h0000gn/T/ipykernel_50024/282657811.py:25: RuntimeWarning: This filename (Spectral_Power/PowerForg_16hz_NoDetect_4.fif) does not conform to MNE naming conventions. All tfr files should end with -tfr.h5 or _tfr.h5\n",
      "  bb= read_tfrs('Spectral_Power/PowerForg_16hz_NoDetect_'+str(subjs[i])+'.fif')\n"
     ]
    },
    {
     "name": "stdout",
     "output_type": "stream",
     "text": [
      "Not setting metadata\n",
      "Starting Subject 3 of 4\n",
      "Reading Spectral_Power/PowerRem_16hz_NoDetect_5.fif ...\n"
     ]
    },
    {
     "name": "stderr",
     "output_type": "stream",
     "text": [
      "/var/folders/6p/3zdj_2v55md5xh86mmn6gt2h0000gn/T/ipykernel_50024/282657811.py:22: RuntimeWarning: This filename (Spectral_Power/PowerRem_16hz_NoDetect_5.fif) does not conform to MNE naming conventions. All tfr files should end with -tfr.h5 or _tfr.h5\n",
      "  aa = read_tfrs('Spectral_Power/PowerRem_16hz_NoDetect_'+str(subjs[i])+'.fif')\n"
     ]
    },
    {
     "name": "stdout",
     "output_type": "stream",
     "text": [
      "Not setting metadata\n",
      "Reading Spectral_Power/PowerForg_16hz_NoDetect_5.fif ...\n"
     ]
    },
    {
     "name": "stderr",
     "output_type": "stream",
     "text": [
      "/var/folders/6p/3zdj_2v55md5xh86mmn6gt2h0000gn/T/ipykernel_50024/282657811.py:25: RuntimeWarning: This filename (Spectral_Power/PowerForg_16hz_NoDetect_5.fif) does not conform to MNE naming conventions. All tfr files should end with -tfr.h5 or _tfr.h5\n",
      "  bb= read_tfrs('Spectral_Power/PowerForg_16hz_NoDetect_'+str(subjs[i])+'.fif')\n"
     ]
    },
    {
     "name": "stdout",
     "output_type": "stream",
     "text": [
      "Not setting metadata\n",
      "Starting Subject 4 of 4\n",
      "Reading Spectral_Power/PowerRem_16hz_NoDetect_6.fif ...\n"
     ]
    },
    {
     "name": "stderr",
     "output_type": "stream",
     "text": [
      "/var/folders/6p/3zdj_2v55md5xh86mmn6gt2h0000gn/T/ipykernel_50024/282657811.py:22: RuntimeWarning: This filename (Spectral_Power/PowerRem_16hz_NoDetect_6.fif) does not conform to MNE naming conventions. All tfr files should end with -tfr.h5 or _tfr.h5\n",
      "  aa = read_tfrs('Spectral_Power/PowerRem_16hz_NoDetect_'+str(subjs[i])+'.fif')\n"
     ]
    },
    {
     "name": "stdout",
     "output_type": "stream",
     "text": [
      "Not setting metadata\n",
      "Reading Spectral_Power/PowerForg_16hz_NoDetect_6.fif ...\n"
     ]
    },
    {
     "name": "stderr",
     "output_type": "stream",
     "text": [
      "/var/folders/6p/3zdj_2v55md5xh86mmn6gt2h0000gn/T/ipykernel_50024/282657811.py:25: RuntimeWarning: This filename (Spectral_Power/PowerForg_16hz_NoDetect_6.fif) does not conform to MNE naming conventions. All tfr files should end with -tfr.h5 or _tfr.h5\n",
      "  bb= read_tfrs('Spectral_Power/PowerForg_16hz_NoDetect_'+str(subjs[i])+'.fif')\n"
     ]
    },
    {
     "name": "stdout",
     "output_type": "stream",
     "text": [
      "Not setting metadata\n"
     ]
    }
   ],
   "source": [
    "#Import additional packages\n",
    "from mne.time_frequency import read_tfrs\n",
    "\n",
    "#Define subjects to include\n",
    "subjs = [3,4,5,6]\n",
    "\n",
    "#Group frequencies into bands\n",
    "freq0 = [0,1,2] #Delta freqs\n",
    "freq1 = [3,4,5,6] #Theta freqs\n",
    "freq2 = [7,8,9,10,11] #Alpha/Beta freqs\n",
    "freq3 = [12,13] # Gamma 1 freqs\n",
    "freq4 = [14,15,16,17] #Gamma 2 freqs\n",
    "\n",
    "#preallocate SME dataframe\n",
    "SMEs = [[]]*len(subjs)\n",
    "\n",
    "#Compute SMEs, loop over subjects\n",
    "for  i in list(range(0, len(subjs))):\n",
    "    print('Starting Subject '+str(i+1)+' of ' + str(len(subjs)))\n",
    "    \n",
    "    #Load remembered & forgotten power structures\n",
    "    aa = read_tfrs('Spectral_Power/PowerRem_16hz_NoDetect_'+str(subjs[i])+'.fif')\n",
    "    Remmd = aa[0].copy()\n",
    "    Remmd.data\n",
    "    bb= read_tfrs('Spectral_Power/PowerForg_16hz_NoDetect_'+str(subjs[i])+'.fif')\n",
    "    Forgd = bb[0].copy()\n",
    "\n",
    "    #preallocate R and F averages for each band and channel\n",
    "    Remfreqs = [[[]]*5]*64\n",
    "    Forgfreqs = [[[]]*5]*64\n",
    "\n",
    "    for j in list(range(0,64)):\n",
    "        #Remembered events\n",
    "        tempPow = []\n",
    "        for t in list(range(0,5)): #loop through frequency bands\n",
    "            freqs = globals()['freq%s' % t]\n",
    "            RemPow = []\n",
    "            for k in list(range(0, len(Remmd.data))): #loop through events\n",
    "                RFP = []\n",
    "                for r in list(range(0, len(freqs))): #loop through each frequency within a band\n",
    "                    RFP.append(np.nanmean(Remmd.data[k][j][freqs[r]])) \n",
    "                RemPow.append(np.mean(RFP))\n",
    "            tempPow.append(np.mean(RemPow))#average frequencies within band\n",
    "        Remfreqs[j] = tempPow #average frequency band power over events\n",
    "    \n",
    "            \n",
    "    for j in list(range(0,64)):\n",
    "        #Forgotten events\n",
    "        tempPow = []\n",
    "        for t in list(range(0,5)): #loop through frequency bands\n",
    "            freqs = globals()['freq%s' % t]\n",
    "            ForgPow = []\n",
    "            for k in list(range(0, len(Forgd.data))): #loop through events\n",
    "                FFP = []\n",
    "                for r in list(range(0, len(freqs))): #loop through each frequency within a band\n",
    "                    FFP.append(np.nanmean(Forgd.data[k][j][freqs[r]])) \n",
    "                ForgPow.append(np.mean(FFP))\n",
    "            tempPow.append(np.mean(ForgPow))#average frequencies within band\n",
    "        Forgfreqs[j] = tempPow #average frequency band power over events\n",
    "        \n",
    "\n",
    "    #allocate temporary structure for SME computation\n",
    "    temps2 = [[]]*64\n",
    "\n",
    "    #Subtract Forgotten freqs from Remembered freqs\n",
    "    for j in list(range(0,64)):\n",
    "        temps = []\n",
    "        for t in list(range(0, 5)):\n",
    "            temps.append(Remfreqs[j][t] - Forgfreqs[j][t])\n",
    "            \n",
    "        temps2[j] = temps\n",
    "    SMEs[i] = temps2"
   ]
  },
  {
   "cell_type": "markdown",
   "id": "a23ee97e",
   "metadata": {},
   "source": [
    "The output is a structure called \"SMEs\", with a size of nsub x nfreq x nchannels, or 4 x 5 x 64 in this case.  "
   ]
  },
  {
   "cell_type": "markdown",
   "id": "e7513075",
   "metadata": {},
   "source": [
    "## 5. Plot SMEs across participants for specific ROI\n",
    "\n",
    "We will now average the SMEs across participants and plot the subsequent memory effects for a bilateral parietal ROI."
   ]
  },
  {
   "cell_type": "code",
   "execution_count": 19,
   "id": "01ce1e33",
   "metadata": {},
   "outputs": [
    {
     "data": {
      "text/plain": [
       "[Text(1, 0, 'Theta'),\n",
       " Text(2, 0, 'Alpha'),\n",
       " Text(3, 0, 'Gamma 1'),\n",
       " Text(4, 0, 'Gamma 2')]"
      ]
     },
     "execution_count": 19,
     "metadata": {},
     "output_type": "execute_result"
    },
    {
     "data": {
      "image/png": "[encoded data removed]",
      "text/plain": [
       "<Figure size 432x288 with 1 Axes>"
      ]
     },
     "metadata": {
      "needs_background": "light"
     },
     "output_type": "display_data"
    }
   ],
   "source": [
    "#Import additional packages\n",
    "import matplotlib.pyplot as plt\n",
    "import math\n",
    "\n",
    "#Selecting 8 channels as bi-lateral parietal ROI\n",
    "Ch = [17, 18, 19, 20, 54,55,56,57]\n",
    "\n",
    "#Preallocate lists for each frequency band\n",
    "SMETheta = []\n",
    "SMEAlpha = []\n",
    "SMEGamma1 = []\n",
    "SMEGamma2 = []\n",
    "\n",
    "#Loop over subjects\n",
    "for i in list(range(0,4)):\n",
    "    Thetatemp = []\n",
    "    Alphatemp = []\n",
    "    Gamma1temp = []\n",
    "    Gamma2temp = []\n",
    "    for k in Ch: \n",
    "        Thetatemp.append(SMEs[i][k][1])\n",
    "        Alphatemp.append(SMEs[i][k][2])\n",
    "        Gamma1temp.append(SMEs[i][k][3])\n",
    "        Gamma2temp.append(SMEs[i][k][4])\n",
    "    \n",
    "    SMETheta.append(np.mean(Thetatemp))\n",
    "    SMEAlpha.append(np.mean(Alphatemp))\n",
    "    SMEGamma1.append(np.mean(Gamma1temp))   \n",
    "    SMEGamma2.append(np.mean(Gamma2temp))\n",
    "    \n",
    "#Compute standard error\n",
    "errTheta = np.std(SMETheta)/np.sqrt(len(SMETheta))\n",
    "errAlpha = np.std(SMEAlpha)/np.sqrt(len(SMEAlpha))\n",
    "errGamma1 = np.std(SMEGamma1)/np.sqrt(len(SMEGamma1))\n",
    "errGamma2 = np.std(SMEGamma2)/np.sqrt(len(SMEGamma2))\n",
    "\n",
    "#Plot it!\n",
    "ax = plt.axes()\n",
    "plt.bar(range(1,5), [np.mean(SMETheta), np.mean(SMEAlpha), np.mean(SMEGamma1), np.mean(SMEGamma2)],\n",
    "        yerr = [errTheta, errAlpha, errGamma1, errGamma2])\n",
    "plt.gca().set_xticks([1,2,3,4])\n",
    "ax.set_xticklabels(['Theta', 'Alpha', 'Gamma 1', 'Gamma 2'])"
   ]
  },
  {
   "cell_type": "code",
   "execution_count": null,
   "id": "aecc9a07",
   "metadata": {},
   "outputs": [],
   "source": []
  }
 ],
 "metadata": {
  "kernelspec": {
   "display_name": "jupyter",
   "language": "python",
   "name": "jupyter"
  },
  "language_info": {
   "codemirror_mode": {
    "name": "ipython",
    "version": 3
   },
   "file_extension": ".py",
   "mimetype": "text/x-python",
   "name": "python",
   "nbconvert_exporter": "python",
   "pygments_lexer": "ipython3",
   "version": "3.9.7"
  }
 },
 "nbformat": 4,
 "nbformat_minor": 5
}
